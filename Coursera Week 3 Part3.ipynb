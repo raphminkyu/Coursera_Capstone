{
    "nbformat_minor": 1, 
    "cells": [
        {
            "source": "<h1>Coursera Capstone Week 3 Part 3</h1>", 
            "cell_type": "markdown", 
            "metadata": {}
        }, 
        {
            "source": "In this project, I am going to scrap the table from https://en.wikipedia.org/wiki/List_of_postal_codes_of_Canada:_M, and organize it into a pandas dataframe, and clean the data.\nIn Part 2, I am going to create another dataframe of the latitudes and longitudes from a csv file from http://cocl.us/Geospatial_data and merge the 2 dataframes with appropriate postalcode. In Part 3, I am going to explore and cluster the neighborhoods in the dataframe.", 
            "cell_type": "markdown", 
            "metadata": {}
        }, 
        {
            "source": "<h3>Part 1 </h3>", 
            "cell_type": "markdown", 
            "metadata": {}
        }, 
        {
            "source": "<h2> Scraping the Data</h2>", 
            "cell_type": "markdown", 
            "metadata": {}
        }, 
        {
            "source": "import pandas as pd\n", 
            "cell_type": "code", 
            "metadata": {}, 
            "outputs": [], 
            "execution_count": 1
        }, 
        {
            "source": "from bs4 import BeautifulSoup\nimport requests", 
            "cell_type": "code", 
            "metadata": {}, 
            "outputs": [], 
            "execution_count": 2
        }, 
        {
            "source": "Use the BeautifulSoup library and the requests library to scrape html text", 
            "cell_type": "markdown", 
            "metadata": {}
        }, 
        {
            "source": "source = requests.get(\"https://en.wikipedia.org/wiki/List_of_postal_codes_of_Canada:_M\").text", 
            "cell_type": "code", 
            "metadata": {}, 
            "outputs": [], 
            "execution_count": 3
        }, 
        {
            "source": "Soup should return the html code", 
            "cell_type": "markdown", 
            "metadata": {}
        }, 
        {
            "source": "soup = BeautifulSoup(source, 'html.parser')\n\n", 
            "cell_type": "code", 
            "metadata": {}, 
            "outputs": [], 
            "execution_count": 4
        }, 
        {
            "source": "Data should return the html code enclosed by the class as noted", 
            "cell_type": "markdown", 
            "metadata": {}
        }, 
        {
            "source": "data = soup.find('table',{'class':'wikitable sortable'})", 
            "cell_type": "code", 
            "metadata": {}, 
            "outputs": [], 
            "execution_count": 5
        }, 
        {
            "source": "The read_html function returns a raw string from data", 
            "cell_type": "markdown", 
            "metadata": {}
        }, 
        {
            "source": "df = pd.read_html(str(data))", 
            "cell_type": "code", 
            "metadata": {}, 
            "outputs": [], 
            "execution_count": 6
        }, 
        {
            "source": "df", 
            "cell_type": "code", 
            "metadata": {}, 
            "outputs": [
                {
                    "output_type": "execute_result", 
                    "data": {
                        "text/plain": "[            0                 1  \\\n 0    Postcode           Borough   \n 1         M1A      Not assigned   \n 2         M2A      Not assigned   \n 3         M3A        North York   \n 4         M4A        North York   \n 5         M5A  Downtown Toronto   \n 6         M5A  Downtown Toronto   \n 7         M6A        North York   \n 8         M6A        North York   \n 9         M7A      Queen's Park   \n 10        M8A      Not assigned   \n 11        M9A         Etobicoke   \n 12        M1B       Scarborough   \n 13        M1B       Scarborough   \n 14        M2B      Not assigned   \n 15        M3B        North York   \n 16        M4B         East York   \n 17        M4B         East York   \n 18        M5B  Downtown Toronto   \n 19        M5B  Downtown Toronto   \n 20        M6B        North York   \n 21        M7B      Not assigned   \n 22        M8B      Not assigned   \n 23        M9B         Etobicoke   \n 24        M9B         Etobicoke   \n 25        M9B         Etobicoke   \n 26        M9B         Etobicoke   \n 27        M9B         Etobicoke   \n 28        M1C       Scarborough   \n 29        M1C       Scarborough   \n ..        ...               ...   \n 259       M9X      Not assigned   \n 260       M1Y      Not assigned   \n 261       M2Y      Not assigned   \n 262       M3Y      Not assigned   \n 263       M4Y  Downtown Toronto   \n 264       M5Y      Not assigned   \n 265       M6Y      Not assigned   \n 266       M7Y      East Toronto   \n 267       M8Y         Etobicoke   \n 268       M8Y         Etobicoke   \n 269       M8Y         Etobicoke   \n 270       M8Y         Etobicoke   \n 271       M8Y         Etobicoke   \n 272       M8Y         Etobicoke   \n 273       M8Y         Etobicoke   \n 274       M8Y         Etobicoke   \n 275       M9Y      Not assigned   \n 276       M1Z      Not assigned   \n 277       M2Z      Not assigned   \n 278       M3Z      Not assigned   \n 279       M4Z      Not assigned   \n 280       M5Z      Not assigned   \n 281       M6Z      Not assigned   \n 282       M7Z      Not assigned   \n 283       M8Z         Etobicoke   \n 284       M8Z         Etobicoke   \n 285       M8Z         Etobicoke   \n 286       M8Z         Etobicoke   \n 287       M8Z         Etobicoke   \n 288       M9Z      Not assigned   \n \n                                                      2  \n 0                                        Neighbourhood  \n 1                                         Not assigned  \n 2                                         Not assigned  \n 3                                            Parkwoods  \n 4                                     Victoria Village  \n 5                                         Harbourfront  \n 6                                          Regent Park  \n 7                                     Lawrence Heights  \n 8                                       Lawrence Manor  \n 9                                         Not assigned  \n 10                                        Not assigned  \n 11                                    Islington Avenue  \n 12                                               Rouge  \n 13                                             Malvern  \n 14                                        Not assigned  \n 15                                     Don Mills North  \n 16                                    Woodbine Gardens  \n 17                                       Parkview Hill  \n 18                                             Ryerson  \n 19                                     Garden District  \n 20                                           Glencairn  \n 21                                        Not assigned  \n 22                                        Not assigned  \n 23                                          Cloverdale  \n 24                                           Islington  \n 25                                        Martin Grove  \n 26                                    Princess Gardens  \n 27                                     West Deane Park  \n 28                                      Highland Creek  \n 29                                          Rouge Hill  \n ..                                                 ...  \n 259                                       Not assigned  \n 260                                       Not assigned  \n 261                                       Not assigned  \n 262                                       Not assigned  \n 263                               Church and Wellesley  \n 264                                       Not assigned  \n 265                                       Not assigned  \n 266  Business Reply Mail Processing Centre 969 Eastern  \n 267                                         Humber Bay  \n 268                                   King's Mill Park  \n 269                           Kingsway Park South East  \n 270                                          Mimico NE  \n 271                                     Old Mill South  \n 272                                 The Queensway East  \n 273                              Royal York South East  \n 274                                           Sunnylea  \n 275                                       Not assigned  \n 276                                       Not assigned  \n 277                                       Not assigned  \n 278                                       Not assigned  \n 279                                       Not assigned  \n 280                                       Not assigned  \n 281                                       Not assigned  \n 282                                       Not assigned  \n 283                           Kingsway Park South West  \n 284                                          Mimico NW  \n 285                                 The Queensway West  \n 286                              Royal York South West  \n 287                                     South of Bloor  \n 288                                       Not assigned  \n \n [289 rows x 3 columns]]"
                    }, 
                    "execution_count": 7, 
                    "metadata": {}
                }
            ], 
            "execution_count": 7
        }, 
        {
            "source": "The DataFrame function returns df as a pandas dataframe", 
            "cell_type": "markdown", 
            "metadata": {}
        }, 
        {
            "source": "df = pd.DataFrame(df[0])\ndf.head()", 
            "cell_type": "code", 
            "metadata": {}, 
            "outputs": [
                {
                    "output_type": "execute_result", 
                    "data": {
                        "text/plain": "          0             1                 2\n0  Postcode       Borough     Neighbourhood\n1       M1A  Not assigned      Not assigned\n2       M2A  Not assigned      Not assigned\n3       M3A    North York         Parkwoods\n4       M4A    North York  Victoria Village", 
                        "text/html": "<div>\n<style scoped>\n    .dataframe tbody tr th:only-of-type {\n        vertical-align: middle;\n    }\n\n    .dataframe tbody tr th {\n        vertical-align: top;\n    }\n\n    .dataframe thead th {\n        text-align: right;\n    }\n</style>\n<table border=\"1\" class=\"dataframe\">\n  <thead>\n    <tr style=\"text-align: right;\">\n      <th></th>\n      <th>0</th>\n      <th>1</th>\n      <th>2</th>\n    </tr>\n  </thead>\n  <tbody>\n    <tr>\n      <th>0</th>\n      <td>Postcode</td>\n      <td>Borough</td>\n      <td>Neighbourhood</td>\n    </tr>\n    <tr>\n      <th>1</th>\n      <td>M1A</td>\n      <td>Not assigned</td>\n      <td>Not assigned</td>\n    </tr>\n    <tr>\n      <th>2</th>\n      <td>M2A</td>\n      <td>Not assigned</td>\n      <td>Not assigned</td>\n    </tr>\n    <tr>\n      <th>3</th>\n      <td>M3A</td>\n      <td>North York</td>\n      <td>Parkwoods</td>\n    </tr>\n    <tr>\n      <th>4</th>\n      <td>M4A</td>\n      <td>North York</td>\n      <td>Victoria Village</td>\n    </tr>\n  </tbody>\n</table>\n</div>"
                    }, 
                    "execution_count": 8, 
                    "metadata": {}
                }
            ], 
            "execution_count": 8
        }, 
        {
            "source": "<h2>Data Cleansing</h2>", 
            "cell_type": "markdown", 
            "metadata": {}
        }, 
        {
            "source": "Create a list of the header names", 
            "cell_type": "markdown", 
            "metadata": {}
        }, 
        {
            "source": "names = ['Postalcode','Borough','Neighborhood']", 
            "cell_type": "code", 
            "metadata": {}, 
            "outputs": [], 
            "execution_count": 9
        }, 
        {
            "source": "Replace the header with the list from above", 
            "cell_type": "markdown", 
            "metadata": {}
        }, 
        {
            "source": "df = df[1:] #take the data less the header row\ndf.columns = names #set the header row as the df header", 
            "cell_type": "code", 
            "metadata": {}, 
            "outputs": [], 
            "execution_count": 10
        }, 
        {
            "source": "Drops rows where the borough isn't specified", 
            "cell_type": "markdown", 
            "metadata": {}
        }, 
        {
            "source": "df.drop(df[df.Borough == 'Not assigned'].index, inplace=True)\ndf.head()", 
            "cell_type": "code", 
            "metadata": {}, 
            "outputs": [
                {
                    "output_type": "execute_result", 
                    "data": {
                        "text/plain": "  Postalcode           Borough      Neighborhood\n3        M3A        North York         Parkwoods\n4        M4A        North York  Victoria Village\n5        M5A  Downtown Toronto      Harbourfront\n6        M5A  Downtown Toronto       Regent Park\n7        M6A        North York  Lawrence Heights", 
                        "text/html": "<div>\n<style scoped>\n    .dataframe tbody tr th:only-of-type {\n        vertical-align: middle;\n    }\n\n    .dataframe tbody tr th {\n        vertical-align: top;\n    }\n\n    .dataframe thead th {\n        text-align: right;\n    }\n</style>\n<table border=\"1\" class=\"dataframe\">\n  <thead>\n    <tr style=\"text-align: right;\">\n      <th></th>\n      <th>Postalcode</th>\n      <th>Borough</th>\n      <th>Neighborhood</th>\n    </tr>\n  </thead>\n  <tbody>\n    <tr>\n      <th>3</th>\n      <td>M3A</td>\n      <td>North York</td>\n      <td>Parkwoods</td>\n    </tr>\n    <tr>\n      <th>4</th>\n      <td>M4A</td>\n      <td>North York</td>\n      <td>Victoria Village</td>\n    </tr>\n    <tr>\n      <th>5</th>\n      <td>M5A</td>\n      <td>Downtown Toronto</td>\n      <td>Harbourfront</td>\n    </tr>\n    <tr>\n      <th>6</th>\n      <td>M5A</td>\n      <td>Downtown Toronto</td>\n      <td>Regent Park</td>\n    </tr>\n    <tr>\n      <th>7</th>\n      <td>M6A</td>\n      <td>North York</td>\n      <td>Lawrence Heights</td>\n    </tr>\n  </tbody>\n</table>\n</div>"
                    }, 
                    "execution_count": 11, 
                    "metadata": {}
                }
            ], 
            "execution_count": 11
        }, 
        {
            "source": "Loop through the table. If the neighborhood isn't assigned, assign it with the respective borough", 
            "cell_type": "markdown", 
            "metadata": {
                "scrolled": true
            }
        }, 
        {
            "source": "for x in range (len(df.index)):\n    if df.iloc[x][2] == 'Not assigned':\n        df.iloc[x][2] = df.iloc[x][1]", 
            "cell_type": "code", 
            "metadata": {}, 
            "outputs": [], 
            "execution_count": 12
        }, 
        {
            "source": "Loop through the table. Neighborhoods with the same postal code should be seperated with a comma under the same row", 
            "cell_type": "markdown", 
            "metadata": {}
        }, 
        {
            "source": "for x in range (len(df.index)):\n    if x < len(df.index)-1:\n        check = True\n        while check == True:\n            if df.iloc[x][0] == df.iloc[x+1][0]:\n                df.iloc[x][2] =\"{0}, {1}\".format(df.iloc[x][2], df.iloc[x+1][2]) \n                df = df.drop(df.index[x+1])\n            else:\n                check = False", 
            "cell_type": "code", 
            "metadata": {}, 
            "outputs": [], 
            "execution_count": 14
        }, 
        {
            "source": "df.shape", 
            "cell_type": "code", 
            "metadata": {}, 
            "outputs": [
                {
                    "output_type": "execute_result", 
                    "data": {
                        "text/plain": "(103, 3)"
                    }, 
                    "execution_count": 15, 
                    "metadata": {}
                }
            ], 
            "execution_count": 15
        }, 
        {
            "source": "Reset indices ", 
            "cell_type": "markdown", 
            "metadata": {}
        }, 
        {
            "source": "df = df.reset_index(drop=True)", 
            "cell_type": "code", 
            "metadata": {}, 
            "outputs": [], 
            "execution_count": 16
        }, 
        {
            "source": "df.head()", 
            "cell_type": "code", 
            "metadata": {}, 
            "outputs": [
                {
                    "output_type": "execute_result", 
                    "data": {
                        "text/plain": "  Postalcode           Borough                      Neighborhood\n0        M3A        North York                         Parkwoods\n1        M4A        North York                  Victoria Village\n2        M5A  Downtown Toronto         Harbourfront, Regent Park\n3        M6A        North York  Lawrence Heights, Lawrence Manor\n4        M7A      Queen's Park                      Queen's Park", 
                        "text/html": "<div>\n<style scoped>\n    .dataframe tbody tr th:only-of-type {\n        vertical-align: middle;\n    }\n\n    .dataframe tbody tr th {\n        vertical-align: top;\n    }\n\n    .dataframe thead th {\n        text-align: right;\n    }\n</style>\n<table border=\"1\" class=\"dataframe\">\n  <thead>\n    <tr style=\"text-align: right;\">\n      <th></th>\n      <th>Postalcode</th>\n      <th>Borough</th>\n      <th>Neighborhood</th>\n    </tr>\n  </thead>\n  <tbody>\n    <tr>\n      <th>0</th>\n      <td>M3A</td>\n      <td>North York</td>\n      <td>Parkwoods</td>\n    </tr>\n    <tr>\n      <th>1</th>\n      <td>M4A</td>\n      <td>North York</td>\n      <td>Victoria Village</td>\n    </tr>\n    <tr>\n      <th>2</th>\n      <td>M5A</td>\n      <td>Downtown Toronto</td>\n      <td>Harbourfront, Regent Park</td>\n    </tr>\n    <tr>\n      <th>3</th>\n      <td>M6A</td>\n      <td>North York</td>\n      <td>Lawrence Heights, Lawrence Manor</td>\n    </tr>\n    <tr>\n      <th>4</th>\n      <td>M7A</td>\n      <td>Queen's Park</td>\n      <td>Queen's Park</td>\n    </tr>\n  </tbody>\n</table>\n</div>"
                    }, 
                    "execution_count": 17, 
                    "metadata": {}
                }
            ], 
            "execution_count": 17
        }, 
        {
            "source": "Construct a dataframe of latitude, longitude, and postalcode from the csv file below", 
            "cell_type": "markdown", 
            "metadata": {}
        }, 
        {
            "source": "<h3>Part 2</h3>", 
            "cell_type": "markdown", 
            "metadata": {}
        }, 
        {
            "source": "dfLatLong = pd.read_csv('http://cocl.us/Geospatial_data')", 
            "cell_type": "code", 
            "metadata": {}, 
            "outputs": [], 
            "execution_count": 18
        }, 
        {
            "source": "Rename the column on this dataframe so it maches that on the first dataframe", 
            "cell_type": "markdown", 
            "metadata": {}
        }, 
        {
            "source": "dfLatLong = dfLatLong.rename(columns={'Postal Code': 'Postalcode'})", 
            "cell_type": "code", 
            "metadata": {}, 
            "outputs": [], 
            "execution_count": 19
        }, 
        {
            "source": "dfLatLong.head()", 
            "cell_type": "code", 
            "metadata": {}, 
            "outputs": [
                {
                    "output_type": "execute_result", 
                    "data": {
                        "text/plain": "  Postalcode   Latitude  Longitude\n0        M1B  43.806686 -79.194353\n1        M1C  43.784535 -79.160497\n2        M1E  43.763573 -79.188711\n3        M1G  43.770992 -79.216917\n4        M1H  43.773136 -79.239476", 
                        "text/html": "<div>\n<style scoped>\n    .dataframe tbody tr th:only-of-type {\n        vertical-align: middle;\n    }\n\n    .dataframe tbody tr th {\n        vertical-align: top;\n    }\n\n    .dataframe thead th {\n        text-align: right;\n    }\n</style>\n<table border=\"1\" class=\"dataframe\">\n  <thead>\n    <tr style=\"text-align: right;\">\n      <th></th>\n      <th>Postalcode</th>\n      <th>Latitude</th>\n      <th>Longitude</th>\n    </tr>\n  </thead>\n  <tbody>\n    <tr>\n      <th>0</th>\n      <td>M1B</td>\n      <td>43.806686</td>\n      <td>-79.194353</td>\n    </tr>\n    <tr>\n      <th>1</th>\n      <td>M1C</td>\n      <td>43.784535</td>\n      <td>-79.160497</td>\n    </tr>\n    <tr>\n      <th>2</th>\n      <td>M1E</td>\n      <td>43.763573</td>\n      <td>-79.188711</td>\n    </tr>\n    <tr>\n      <th>3</th>\n      <td>M1G</td>\n      <td>43.770992</td>\n      <td>-79.216917</td>\n    </tr>\n    <tr>\n      <th>4</th>\n      <td>M1H</td>\n      <td>43.773136</td>\n      <td>-79.239476</td>\n    </tr>\n  </tbody>\n</table>\n</div>"
                    }, 
                    "execution_count": 20, 
                    "metadata": {}
                }
            ], 
            "execution_count": 20
        }, 
        {
            "source": "Merge the two dataframe with appropriate postalcode", 
            "cell_type": "markdown", 
            "metadata": {}
        }, 
        {
            "source": "mergeDf = pd.merge(df, dfLatLong[['Postalcode','Latitude','Longitude']], on = 'Postalcode')", 
            "cell_type": "code", 
            "metadata": {}, 
            "outputs": [], 
            "execution_count": 21
        }, 
        {
            "source": "mergeDf.head()", 
            "cell_type": "code", 
            "metadata": {}, 
            "outputs": [
                {
                    "output_type": "execute_result", 
                    "data": {
                        "text/plain": "  Postalcode           Borough                      Neighborhood   Latitude  \\\n0        M3A        North York                         Parkwoods  43.753259   \n1        M4A        North York                  Victoria Village  43.725882   \n2        M5A  Downtown Toronto         Harbourfront, Regent Park  43.654260   \n3        M6A        North York  Lawrence Heights, Lawrence Manor  43.718518   \n4        M7A      Queen's Park                      Queen's Park  43.662301   \n\n   Longitude  \n0 -79.329656  \n1 -79.315572  \n2 -79.360636  \n3 -79.464763  \n4 -79.389494  ", 
                        "text/html": "<div>\n<style scoped>\n    .dataframe tbody tr th:only-of-type {\n        vertical-align: middle;\n    }\n\n    .dataframe tbody tr th {\n        vertical-align: top;\n    }\n\n    .dataframe thead th {\n        text-align: right;\n    }\n</style>\n<table border=\"1\" class=\"dataframe\">\n  <thead>\n    <tr style=\"text-align: right;\">\n      <th></th>\n      <th>Postalcode</th>\n      <th>Borough</th>\n      <th>Neighborhood</th>\n      <th>Latitude</th>\n      <th>Longitude</th>\n    </tr>\n  </thead>\n  <tbody>\n    <tr>\n      <th>0</th>\n      <td>M3A</td>\n      <td>North York</td>\n      <td>Parkwoods</td>\n      <td>43.753259</td>\n      <td>-79.329656</td>\n    </tr>\n    <tr>\n      <th>1</th>\n      <td>M4A</td>\n      <td>North York</td>\n      <td>Victoria Village</td>\n      <td>43.725882</td>\n      <td>-79.315572</td>\n    </tr>\n    <tr>\n      <th>2</th>\n      <td>M5A</td>\n      <td>Downtown Toronto</td>\n      <td>Harbourfront, Regent Park</td>\n      <td>43.654260</td>\n      <td>-79.360636</td>\n    </tr>\n    <tr>\n      <th>3</th>\n      <td>M6A</td>\n      <td>North York</td>\n      <td>Lawrence Heights, Lawrence Manor</td>\n      <td>43.718518</td>\n      <td>-79.464763</td>\n    </tr>\n    <tr>\n      <th>4</th>\n      <td>M7A</td>\n      <td>Queen's Park</td>\n      <td>Queen's Park</td>\n      <td>43.662301</td>\n      <td>-79.389494</td>\n    </tr>\n  </tbody>\n</table>\n</div>"
                    }, 
                    "execution_count": 22, 
                    "metadata": {}
                }
            ], 
            "execution_count": 22
        }, 
        {
            "source": "<h3>Part 3</h3>", 
            "cell_type": "markdown", 
            "metadata": {}
        }, 
        {
            "source": "Import Necessary Libraries\n", 
            "cell_type": "markdown", 
            "metadata": {}
        }, 
        {
            "source": "import numpy as np # library to handle data in a vectorized manner\n\n\nimport json # library to handle JSON files\n\n#!conda install -c conda-forge geopy --yes # uncomment this line if you haven't completed the Foursquare API lab\nfrom geopy.geocoders import Nominatim # convert an address into latitude and longitude values\n\nfrom pandas.io.json import json_normalize # tranform JSON file into a pandas dataframe\n\n# Matplotlib and associated plotting modules\nimport matplotlib.cm as cm\nimport matplotlib.colors as colors\n\n# import k-means from clustering stage\nfrom sklearn.cluster import KMeans\n\n!conda install -c conda-forge folium=0.5.0 --yes # uncomment this line if you haven't completed the Foursquare API lab\nimport folium # map rendering library\n\nprint('Libraries imported.')", 
            "cell_type": "code", 
            "metadata": {}, 
            "outputs": [
                {
                    "output_type": "stream", 
                    "name": "stdout", 
                    "text": "Solving environment: done\n\n## Package Plan ##\n\n  environment location: /opt/conda/envs/DSX-Python35\n\n  added / updated specs: \n    - folium=0.5.0\n\n\nThe following packages will be downloaded:\n\n    package                    |            build\n    ---------------------------|-----------------\n    openssl-1.0.2r             |       h14c3975_0         3.1 MB  conda-forge\n    certifi-2018.8.24          |        py35_1001         139 KB  conda-forge\n    folium-0.5.0               |             py_0          45 KB  conda-forge\n    altair-2.2.2               |           py35_1         462 KB  conda-forge\n    branca-0.3.1               |             py_0          25 KB  conda-forge\n    ca-certificates-2019.3.9   |       hecc5488_0         146 KB  conda-forge\n    vincent-0.4.4              |             py_1          28 KB  conda-forge\n    ------------------------------------------------------------\n                                           Total:         4.0 MB\n\nThe following NEW packages will be INSTALLED:\n\n    altair:          2.2.2-py35_1      conda-forge\n    branca:          0.3.1-py_0        conda-forge\n    folium:          0.5.0-py_0        conda-forge\n    vincent:         0.4.4-py_1        conda-forge\n\nThe following packages will be UPDATED:\n\n    ca-certificates: 2019.1.23-0                   --> 2019.3.9-hecc5488_0 conda-forge\n    certifi:         2018.8.24-py35_1              --> 2018.8.24-py35_1001 conda-forge\n    openssl:         1.0.2r-h7b6447c_0             --> 1.0.2r-h14c3975_0   conda-forge\n\n\nDownloading and Extracting Packages\nopenssl-1.0.2r       | 3.1 MB    | ##################################### | 100% \ncertifi-2018.8.24    | 139 KB    | ##################################### | 100% \nfolium-0.5.0         | 45 KB     | ##################################### | 100% \naltair-2.2.2         | 462 KB    | ##################################### | 100% \nbranca-0.3.1         | 25 KB     | ##################################### | 100% \nca-certificates-2019 | 146 KB    | ##################################### | 100% \nvincent-0.4.4        | 28 KB     | ##################################### | 100% \nPreparing transaction: done\nVerifying transaction: done\nExecuting transaction: - "
                }
            ], 
            "execution_count": null
        }, 
        {
            "source": "Use the geolocator to find the latitude and longitude of Toronto", 
            "cell_type": "markdown", 
            "metadata": {}
        }, 
        {
            "source": "<h2>Creating a map of Toronto</h2>", 
            "cell_type": "markdown", 
            "metadata": {}
        }, 
        {
            "source": "address = 'Toronto, CA'\n\ngeolocator = Nominatim(user_agent=\"ca_explorer\")\nlocation = geolocator.geocode(address)\nlatitude = location.latitude\nlongitude = location.longitude\nprint(latitude, longitude)", 
            "cell_type": "code", 
            "metadata": {}, 
            "outputs": [], 
            "execution_count": null
        }, 
        {
            "source": "Create a map of Toronto using folium and the merged dataframe", 
            "cell_type": "markdown", 
            "metadata": {}
        }, 
        {
            "source": "map_toron = folium.Map(location=[latitude, longitude], zoom_start=10)\n\n# add markers to map\nfor lat, lng, borough, neighborhood in zip(mergeDf['Latitude'], mergeDf['Longitude'], mergeDf['Borough'], mergeDf['Neighborhood']):\n    label = '{}, {}'.format(neighborhood, borough)\n    label = folium.Popup(label, parse_html=True)\n    folium.CircleMarker(\n        [lat, lng],\n        radius=5,\n        popup=label,\n        color='blue',\n        fill=True,\n        fill_color='#3186cc',\n        fill_opacity=0.7,\n        parse_html=False).add_to(map_toron)  \n    \nmap_toron", 
            "cell_type": "code", 
            "metadata": {}, 
            "outputs": [], 
            "execution_count": null
        }
    ], 
    "metadata": {
        "kernelspec": {
            "display_name": "Python 3.5", 
            "name": "python3", 
            "language": "python"
        }, 
        "language_info": {
            "mimetype": "text/x-python", 
            "nbconvert_exporter": "python", 
            "version": "3.5.5", 
            "name": "python", 
            "file_extension": ".py", 
            "pygments_lexer": "ipython3", 
            "codemirror_mode": {
                "version": 3, 
                "name": "ipython"
            }
        }
    }, 
    "nbformat": 4
}